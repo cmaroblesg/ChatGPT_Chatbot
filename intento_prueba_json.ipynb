{
 "cells": [
  {
   "cell_type": "code",
   "execution_count": 17,
   "metadata": {},
   "outputs": [],
   "source": [
    "import json\n",
    "import os\n",
    "import datetime"
   ]
  },
  {
   "cell_type": "code",
   "execution_count": 41,
   "metadata": {},
   "outputs": [],
   "source": [
    "def openJsonFile(file):\n",
    "    with open(file, encoding='utf-8') as jsonFile:\n",
    "        config = json.load(jsonFile)\n",
    "    jsonFile.close()\n",
    "    return config"
   ]
  },
  {
   "cell_type": "code",
   "execution_count": 19,
   "metadata": {},
   "outputs": [],
   "source": [
    "def saveJsonFile(file,archivo):\n",
    "    with open(file,\"w\", encoding='utf-8') as jsonFile:\n",
    "        json.dump(archivo, jsonFile, ensure_ascii= False, indent=4)\n",
    "    jsonFile.close()"
   ]
  },
  {
   "cell_type": "code",
   "execution_count": 22,
   "metadata": {},
   "outputs": [],
   "source": [
    "def createJsonFile(file):\n",
    "    if not os.path.exists(file):\n",
    "        print(\"Archivo creado.\")\n",
    "        with open(file, \"w\", encoding='utf-8') as jsonFile:\n",
    "            datos = {}\n",
    "            datos.update(\n",
    "                {\n",
    "                    \"0\":{\n",
    "                        \"T: \":datetime.datetime.now().strftime(\"%Y-%m-%d %H:%M:%S\"),\n",
    "                        \"Q: \":\"Este es un ejemplo\",\n",
    "                        \"A: \":\"Debe ser eliminado\"\n",
    "                    }\n",
    "                }\n",
    "            )\n",
    "            saveJsonFile(file, datos)\n",
    "        jsonFile.close()\n",
    "    else:\n",
    "        print(\"El archivo ya existe\")"
   ]
  },
  {
   "cell_type": "code",
   "execution_count": 33,
   "metadata": {},
   "outputs": [
    {
     "name": "stdout",
     "output_type": "stream",
     "text": [
      "El archivo ya existe\n"
     ]
    }
   ],
   "source": [
    "createJsonFile(\"./data/log.json\")"
   ]
  },
  {
   "cell_type": "code",
   "execution_count": 42,
   "metadata": {},
   "outputs": [
    {
     "name": "stdout",
     "output_type": "stream",
     "text": [
      "{'0': {'T: ': '2023-09-06 18:40:45', 'Q: ': 'Este es un ejemplo', 'A: ': 'Debe ser eliminado'}}\n"
     ]
    }
   ],
   "source": [
    "datos = openJsonFile(\"./data/log.json\")\n",
    "print(datos)"
   ]
  },
  {
   "cell_type": "code",
   "execution_count": 43,
   "metadata": {},
   "outputs": [],
   "source": [
    "def getJsonLength(json_data):\n",
    "    return len(json_data)"
   ]
  },
  {
   "cell_type": "code",
   "execution_count": 53,
   "metadata": {},
   "outputs": [],
   "source": [
    "def creatingTheLog(json_data, prompt, response):\n",
    "    length = getJsonLength(json_data)\n",
    "    if str(length + 1) not in json_data:\n",
    "        new_info = {\n",
    "            \"T\": datetime.datetime.now().strftime(\"%Y-%m-%d %H:%M:%S\"),\n",
    "            \"Q\": prompt,\n",
    "            \"A\": response\n",
    "        }\n",
    "        json_data[str(str(length + 1))]= new_info\n",
    "    return json_data"
   ]
  },
  {
   "cell_type": "code",
   "execution_count": 54,
   "metadata": {},
   "outputs": [
    {
     "data": {
      "text/plain": [
       "{'0': {'T: ': '2023-09-06 18:40:45',\n",
       "  'Q: ': 'Este es un ejemplo',\n",
       "  'A: ': 'Debe ser eliminado'},\n",
       " '2': {'T': '2023-09-06 18:49:44',\n",
       "  'Q': 'Aqui va ir el prompt',\n",
       "  'A': 'Aqui va la respuesta'},\n",
       " '3': {'T': '2023-09-06 18:52:30',\n",
       "  'Q': 'Nueva pregunta',\n",
       "  'A': 'Aqui va la respuesta'}}"
      ]
     },
     "execution_count": 54,
     "metadata": {},
     "output_type": "execute_result"
    }
   ],
   "source": [
    "creatingTheLog(datos, \"Nueva pregunta\", \"Aqui va la respuesta\")"
   ]
  },
  {
   "cell_type": "code",
   "execution_count": 56,
   "metadata": {},
   "outputs": [
    {
     "data": {
      "text/plain": [
       "12"
      ]
     },
     "execution_count": 56,
     "metadata": {},
     "output_type": "execute_result"
    }
   ],
   "source": [
    "date = datetime.date.today()\n",
    "data = openJsonFile(f\"./data/{date}.json\")\n",
    "getJsonLength(data)"
   ]
  },
  {
   "cell_type": "code",
   "execution_count": 61,
   "metadata": {},
   "outputs": [
    {
     "name": "stdout",
     "output_type": "stream",
     "text": [
      "Por supuesto, aquí está un posible itinerario para tu día en la Torre BBVA:\n",
      "\n",
      "7:00am - Sal de casa y toma el transporte público hasta tu destino.\n",
      "\n",
      "8:00am - Llegada a la Torre BBVA, tome el tiempo para registrarse y/o hacer los tramites necesarios antes de tu horario de trabajo.\n",
      "\n",
      "9:00am - Reunión diaria de trabajo (daily meeting).\n",
      "\n",
      "9:30am - Empieza tu día de trabajo.\n",
      "\n",
      "11:00am - Toma un breve descanso para el desayuno ligero.\n",
      "\n",
      "1:30pm - Toma un descanso para comer.\n",
      "\n",
      "2:00pm - Regresa a trabajar.\n",
      "\n",
      "5:30pm - Termina tu jornada de trabajo.\n",
      "\n",
      "6:00pm - Sal de la Torre BBVA y dirígete a tu casa.\n",
      "\n",
      "7:00pm - Llegada a casa.\n",
      "\n",
      "Este itinerario está diseñado para que tengas tiempo suficiente para realizar tus tareas laborales y también tomar una comida y descansar durante el día. Por supuesto, puedes ajustar el horario en base a tus necesidades personales y laborales. Asegúrate de organizar suficiente tiempo para los trámites necesarios y el registro en el lugar de trabajo antes de tiempo para lograr aprovechar al máximo tu día productivo. ¡Que tengas un buen día en la Torre de BBVA!\n"
     ]
    }
   ],
   "source": [
    "print(data[\"12\"][\"A\"])"
   ]
  },
  {
   "cell_type": "code",
   "execution_count": null,
   "metadata": {},
   "outputs": [],
   "source": []
  }
 ],
 "metadata": {
  "kernelspec": {
   "display_name": ".venv",
   "language": "python",
   "name": "python3"
  },
  "language_info": {
   "codemirror_mode": {
    "name": "ipython",
    "version": 3
   },
   "file_extension": ".py",
   "mimetype": "text/x-python",
   "name": "python",
   "nbconvert_exporter": "python",
   "pygments_lexer": "ipython3",
   "version": "3.11.3"
  },
  "orig_nbformat": 4
 },
 "nbformat": 4,
 "nbformat_minor": 2
}
