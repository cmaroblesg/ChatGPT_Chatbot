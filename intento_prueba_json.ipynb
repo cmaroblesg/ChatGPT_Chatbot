{
 "cells": [
  {
   "cell_type": "code",
   "execution_count": 1,
   "metadata": {},
   "outputs": [],
   "source": [
    "import json\n",
    "import os\n",
    "import datetime"
   ]
  },
  {
   "cell_type": "code",
   "execution_count": 2,
   "metadata": {},
   "outputs": [],
   "source": [
    "def openJsonFile(file):\n",
    "    with open(file, encoding='utf-8') as jsonFile:\n",
    "        config = json.load(jsonFile)\n",
    "    jsonFile.close()"
   ]
  },
  {
   "cell_type": "code",
   "execution_count": 3,
   "metadata": {},
   "outputs": [],
   "source": [
    "def saveJsonFile(file,archivo):\n",
    "    with open(file,\"w\", encoding='utf-8') as jsonFile:\n",
    "        json.dump(archivo, jsonFile, ensure_ascii= False, indent=4)\n",
    "    jsonFile.close()"
   ]
  },
  {
   "cell_type": "code",
   "execution_count": 16,
   "metadata": {},
   "outputs": [
    {
     "ename": "SyntaxError",
     "evalue": "invalid syntax. Perhaps you forgot a comma? (1780510927.py, line 9)",
     "output_type": "error",
     "traceback": [
      "\u001b[0;36m  Cell \u001b[0;32mIn[16], line 9\u001b[0;36m\u001b[0m\n\u001b[0;31m    \"T: \": datetime.datetime.now()strftime(\"%Y-%m-%d %H:%M:%S\"),\u001b[0m\n\u001b[0m           ^\u001b[0m\n\u001b[0;31mSyntaxError\u001b[0m\u001b[0;31m:\u001b[0m invalid syntax. Perhaps you forgot a comma?\n"
     ]
    }
   ],
   "source": [
    "def createJsonFile(file):\n",
    "    if not os.path.exists(file):\n",
    "        print(\"Archivo creado.\")\n",
    "        with open(file, \"w\", encoding='utf-8') as jsonFile:\n",
    "            datos = {}\n",
    "            datos.update(\n",
    "                {\n",
    "                    \"0\":{\n",
    "                        \"T: \":datetime.datetime.now()strftime(\"%Y-%m-%d %H:%M:%S\"),\n",
    "                        \"Q: \":\"Este es un ejemplo\",\n",
    "                        \"A: \":\"Debe ser eliminado\"\n",
    "                    }\n",
    "                }\n",
    "            )\n",
    "            saveJsonFile(file, datos)\n",
    "        jsonFile.close()\n",
    "    else:\n",
    "        print(\"El archivo ya existe\")"
   ]
  },
  {
   "cell_type": "code",
   "execution_count": 13,
   "metadata": {},
   "outputs": [
    {
     "name": "stdout",
     "output_type": "stream",
     "text": [
      "Archivo creado.\n"
     ]
    }
   ],
   "source": [
    "createJsonFile(\"./data/log.json\")\n"
   ]
  },
  {
   "cell_type": "code",
   "execution_count": 11,
   "metadata": {},
   "outputs": [
    {
     "name": "stdout",
     "output_type": "stream",
     "text": [
      "None\n"
     ]
    }
   ],
   "source": [
    "datos = openJsonFile(\"./data/log.json\")\n",
    "print(datos)"
   ]
  },
  {
   "cell_type": "code",
   "execution_count": null,
   "metadata": {},
   "outputs": [],
   "source": [
    "print(json.dumps(datos, indent=4))"
   ]
  },
  {
   "cell_type": "code",
   "execution_count": null,
   "metadata": {},
   "outputs": [],
   "source": [
    "import re\n",
    "logs = []\n",
    "with open(f'./data/log_conversacion_2023-09-05.log', 'r') as log_file:\n",
    "    contenido = log_file.read()\n",
    "log_file.close()\n",
    "contenido\n",
    "#with open(f'./data/log_conversacion_2023-09-05.log', 'r') as log_file:\n",
    "    #for line in log_file:\n",
    "    #    parts = line.split(';')\n",
    "    #    print(parts)\n",
    "                #log = {\n",
    "                #    'timestamp': parts[0],\n",
    "                #    'Q': parts[2],\n",
    "                #    'message': parts[3]\n",
    "                #}\n",
    "                #logs.append(log)\n",
    "        \n",
    "        #with open(f'./data/logs_{date}.json', 'w') as json_file:\n",
    "        #    json.dump(logs, json_file, indent=4)"
   ]
  },
  {
   "cell_type": "code",
   "execution_count": null,
   "metadata": {},
   "outputs": [],
   "source": [
    "print(re.sub(\"\\n\\n\",\"\\n\",contenido))"
   ]
  },
  {
   "cell_type": "code",
   "execution_count": null,
   "metadata": {},
   "outputs": [],
   "source": []
  }
 ],
 "metadata": {
  "kernelspec": {
   "display_name": ".venv",
   "language": "python",
   "name": "python3"
  },
  "language_info": {
   "codemirror_mode": {
    "name": "ipython",
    "version": 3
   },
   "file_extension": ".py",
   "mimetype": "text/x-python",
   "name": "python",
   "nbconvert_exporter": "python",
   "pygments_lexer": "ipython3",
   "version": "3.11.3"
  },
  "orig_nbformat": 4
 },
 "nbformat": 4,
 "nbformat_minor": 2
}
