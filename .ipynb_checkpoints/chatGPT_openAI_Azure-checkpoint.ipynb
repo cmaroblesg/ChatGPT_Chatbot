{
 "cells": [
  {
   "cell_type": "code",
   "execution_count": 1,
   "id": "756b45dc-5904-403a-b932-b812f6c47fdb",
   "metadata": {
    "tags": []
   },
   "outputs": [],
   "source": [
    "import openai\n",
    "import json\n",
    "import os"
   ]
  },
  {
   "cell_type": "code",
   "execution_count": 2,
   "id": "c78f239d-2996-4b67-95c9-ab28c9edbb76",
   "metadata": {
    "tags": []
   },
   "outputs": [],
   "source": [
    "with open(\"configuracion.json\") as jsonFile:\n",
    "    config = json.load(jsonFile)\n",
    "jsonFile.close()"
   ]
  },
  {
   "cell_type": "code",
   "execution_count": 5,
   "id": "7ae1510a-ee85-4cca-95b0-789102d41091",
   "metadata": {
    "tags": []
   },
   "outputs": [
    {
     "data": {
      "text/plain": [
       "{'OPENAI_API_TYPE': 'azure',\n",
       " 'OPENAI_API_BASE': 'https://contact-center-llm-ws-eu.openai.azure.com/',\n",
       " 'OPENAI_API_KEY': 'e1ab0f94d3514373b12e519d1860bde8',\n",
       " 'OPENAI_API_VERSION': '2023-03-15-preview',\n",
       " 'OPENAI_MODEL': 'gpt-35-turbo',\n",
       " 'OPENAI_EMBEDDINGS': 'text-embedding-ada-002'}"
      ]
     },
     "execution_count": 5,
     "metadata": {},
     "output_type": "execute_result"
    }
   ],
   "source": [
    "account_type = config[\"init\"][\"type\"]\n",
    "openAI = config[\"account_type\"][account_type]\n",
    "openAI"
   ]
  },
  {
   "cell_type": "code",
   "execution_count": 6,
   "id": "696c80f4-607f-4dfa-9bb3-048505c0c201",
   "metadata": {
    "tags": []
   },
   "outputs": [],
   "source": [
    "openai.api_type =  openAI[\"OPENAI_API_TYPE\"]\n",
    "openai.api_version = openAI[\"OPENAI_API_VERSION\"]\n",
    "openai.api_base = openAI[\"OPENAI_API_BASE\"]\n",
    "openai.api_key = openAI[\"OPENAI_API_KEY\"]\n",
    "temperature = config[\"init\"][\"temperature\"]"
   ]
  },
  {
   "cell_type": "code",
   "execution_count": 7,
   "id": "4f158d7b-e358-4290-bbdc-598c18fe05b2",
   "metadata": {
    "tags": []
   },
   "outputs": [],
   "source": [
    "def obtener_respuesta_a_pregunta(context, descripcion):\n",
    "    completitud_texto = [\n",
    "        {\n",
    "            \"role\":\"system\",\n",
    "            \"content\":context.strip()\n",
    "        },\n",
    "        {\n",
    "            \"role\":\"user\",\n",
    "            \"content\":descripcion.strip()\n",
    "        }\n",
    "    ]\n",
    "    model_engine = openAI[\"OPENAI_MODEL\"]\n",
    "    respuesta = openai.ChatCompletion.create(\n",
    "        engine = model_engine,\n",
    "        messages = completitud_texto,\n",
    "        temperature = temperature\n",
    "    )\n",
    "    \n",
    "    return respuesta[\"choices\"][0][\"message\"][\"content\"]"
   ]
  },
  {
   "cell_type": "code",
   "execution_count": 8,
   "id": "26cc4490-22f4-468c-96df-af60e9bc1b6b",
   "metadata": {
    "tags": []
   },
   "outputs": [
    {
     "data": {
      "text/plain": [
       "'La capital de Turquía es Ankara.'"
      ]
     },
     "execution_count": 8,
     "metadata": {},
     "output_type": "execute_result"
    }
   ],
   "source": [
    "obtener_respuesta_a_pregunta(\"Eres un asistente muy util y eficaz.\",\"Cual es la capital de Turquia?\")"
   ]
  },
  {
   "cell_type": "code",
   "execution_count": null,
   "id": "c2082833-6753-48e7-9518-647ed8145341",
   "metadata": {},
   "outputs": [],
   "source": []
  }
 ],
 "metadata": {
  "kernelspec": {
   "display_name": "Python 3 (ipykernel)",
   "language": "python",
   "name": "python3"
  },
  "language_info": {
   "codemirror_mode": {
    "name": "ipython",
    "version": 3
   },
   "file_extension": ".py",
   "mimetype": "text/x-python",
   "name": "python",
   "nbconvert_exporter": "python",
   "pygments_lexer": "ipython3",
   "version": "3.11.3"
  }
 },
 "nbformat": 4,
 "nbformat_minor": 5
}
