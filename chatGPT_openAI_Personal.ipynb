{
 "cells": [
  {
   "cell_type": "code",
   "execution_count": 5,
   "id": "83648162-6724-453e-8102-4c4dd8fb3d95",
   "metadata": {
    "tags": []
   },
   "outputs": [
    {
     "ename": "ModuleNotFoundError",
     "evalue": "No module named 'openai'",
     "output_type": "error",
     "traceback": [
      "\u001b[0;31m---------------------------------------------------------------------------\u001b[0m",
      "\u001b[0;31mModuleNotFoundError\u001b[0m                       Traceback (most recent call last)",
      "Cell \u001b[0;32mIn[5], line 1\u001b[0m\n\u001b[0;32m----> 1\u001b[0m \u001b[39mimport\u001b[39;00m \u001b[39mopenai\u001b[39;00m\n\u001b[1;32m      2\u001b[0m \u001b[39mimport\u001b[39;00m \u001b[39mrequests\u001b[39;00m\n\u001b[1;32m      3\u001b[0m \u001b[39mimport\u001b[39;00m \u001b[39mjson\u001b[39;00m\n",
      "\u001b[0;31mModuleNotFoundError\u001b[0m: No module named 'openai'"
     ]
    }
   ],
   "source": [
    "import openai\n",
    "import requests\n",
    "import json\n",
    "import os"
   ]
  },
  {
   "cell_type": "code",
   "execution_count": null,
   "id": "4486382e-0b08-4b9c-9301-a45ae57d0769",
   "metadata": {
    "tags": []
   },
   "outputs": [],
   "source": [
    "with open(\"configuracion.json\") as jsonFile:\n",
    "    config = json.load(jsonFile)\n",
    "jsonFile.close()"
   ]
  },
  {
   "cell_type": "code",
   "execution_count": null,
   "id": "e33aaa05-b323-4b9c-a719-e636b296b08d",
   "metadata": {
    "tags": []
   },
   "outputs": [],
   "source": [
    "init = config[\"init\"]\n",
    "temperature = init[\"temperature\"]"
   ]
  },
  {
   "cell_type": "code",
   "execution_count": null,
   "id": "aab3904c-dd28-4003-a70a-10b72040c071",
   "metadata": {
    "tags": []
   },
   "outputs": [],
   "source": [
    "info = config['account_type']['personal']\n",
    "openai.organization = info['OPENAI_ORGANIZATION']\n",
    "openai.api_key = info['OPENAI_API_KEY']\n",
    "# model = info['OPENAI_MODEL_GPT3.5TURBO']\n",
    "model = info['OPENAI_MODEL_GPT4']"
   ]
  },
  {
   "cell_type": "code",
   "execution_count": null,
   "id": "39a1f653-ab1d-4027-b1c9-c0710b101269",
   "metadata": {
    "tags": []
   },
   "outputs": [],
   "source": [
    "def preguntaChatGPT(model, context, prompt):\n",
    "    message = [\n",
    "        {\"role\": \"system\", \"content\": context.strip()},\n",
    "        {\"role\": \"user\", \"content\": prompt.strip()}\n",
    "    ]\n",
    "    \n",
    "    response = openai.ChatCompletion.create(\n",
    "        model=model,\n",
    "        messages=message,\n",
    "        temperature=temperature\n",
    "    )\n",
    "\n",
    "    # Obtiene y muestra la respuesta generada por ChatGPT\n",
    "    return response.choices[0].message[\"content\"]"
   ]
  },
  {
   "cell_type": "code",
   "execution_count": null,
   "id": "187526f3-518b-4361-be84-3616511a78c0",
   "metadata": {
    "tags": []
   },
   "outputs": [
    {
     "data": {
      "text/plain": [
       "'La capital de Francia es París.'"
      ]
     },
     "execution_count": 9,
     "metadata": {},
     "output_type": "execute_result"
    }
   ],
   "source": [
    "prompt = 'Pregunta: ¿Cuál es la capital de Francia? \\nRespuesta:'\n",
    "context = 'Eres un asistente muy util y capaz.'\n",
    "preguntaChatGPT(model, context, prompt)"
   ]
  },
  {
   "cell_type": "code",
   "execution_count": null,
   "id": "1e4115e4-698e-4844-bbd5-d77b7cfbac2b",
   "metadata": {},
   "outputs": [],
   "source": []
  }
 ],
 "metadata": {
  "kernelspec": {
   "display_name": "Python 3 (ipykernel)",
   "language": "python",
   "name": "python3"
  },
  "language_info": {
   "codemirror_mode": {
    "name": "ipython",
    "version": 3
   },
   "file_extension": ".py",
   "mimetype": "text/x-python",
   "name": "python",
   "nbconvert_exporter": "python",
   "pygments_lexer": "ipython3",
   "version": "3.11.3"
  }
 },
 "nbformat": 4,
 "nbformat_minor": 5
}
