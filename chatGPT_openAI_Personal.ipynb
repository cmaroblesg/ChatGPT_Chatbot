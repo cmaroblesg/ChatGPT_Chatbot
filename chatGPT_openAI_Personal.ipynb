{
 "cells": [
  {
   "cell_type": "code",
   "execution_count": 5,
   "id": "83648162-6724-453e-8102-4c4dd8fb3d95",
   "metadata": {
    "tags": []
   },
   "outputs": [],
   "source": [
    "import openai\n",
    "import requests\n",
    "import json\n",
    "import os"
   ]
  },
  {
   "cell_type": "code",
   "execution_count": 6,
   "id": "4486382e-0b08-4b9c-9301-a45ae57d0769",
   "metadata": {
    "tags": []
   },
   "outputs": [],
   "source": [
    "with open(\"configuracion.json\") as jsonFile:\n",
    "    config = json.load(jsonFile)\n",
    "jsonFile.close()"
   ]
  },
  {
   "cell_type": "code",
   "execution_count": 31,
   "id": "aab3904c-dd28-4003-a70a-10b72040c071",
   "metadata": {
    "tags": []
   },
   "outputs": [],
   "source": [
    "info = config['account_type']['personal']\n",
    "openai.organization = info['OPENAI_ORGANIZATION']\n",
    "openai.api_key = info['OPENAI_API_KEY']\n",
    "# model = info['OPENAI_MODEL_GPT3.5TURBO']\n",
    "model = info['OPENAI_MODEL_GPT4']"
   ]
  },
  {
   "cell_type": "code",
   "execution_count": 34,
   "id": "39a1f653-ab1d-4027-b1c9-c0710b101269",
   "metadata": {
    "tags": []
   },
   "outputs": [],
   "source": [
    "def preguntaChatGPT(model, context, prompt):\n",
    "    message = [\n",
    "        {\"role\": \"system\", \"content\": context.strip()},\n",
    "        {\"role\": \"user\", \"content\": prompt.strip()}\n",
    "    ]\n",
    "    \n",
    "    response = openai.ChatCompletion.create(\n",
    "        model=model,\n",
    "        messages=message,\n",
    "        temperature=0.1\n",
    "    )\n",
    "\n",
    "    # Obtiene y muestra la respuesta generada por ChatGPT\n",
    "    return response.choices[0].message[\"content\"]\n",
    "    \n"
   ]
  },
  {
   "cell_type": "code",
   "execution_count": 35,
   "id": "187526f3-518b-4361-be84-3616511a78c0",
   "metadata": {
    "tags": []
   },
   "outputs": [
    {
     "data": {
      "text/plain": [
       "'La capital de Francia es París.'"
      ]
     },
     "execution_count": 35,
     "metadata": {},
     "output_type": "execute_result"
    }
   ],
   "source": [
    "prompt = 'Pregunta: ¿Cuál es la capital de Francia?\\nRespuesta:'\n",
    "context = 'Eres un asistente muy util y capaz.'\n",
    "preguntaChatGPT(model, context, prompt)"
   ]
  },
  {
   "cell_type": "code",
   "execution_count": null,
   "id": "2f606353-94f6-46ab-8677-898d2030c6ed",
   "metadata": {},
   "outputs": [],
   "source": []
  }
 ],
 "metadata": {
  "kernelspec": {
   "display_name": "Python 3 (ipykernel)",
   "language": "python",
   "name": "python3"
  },
  "language_info": {
   "codemirror_mode": {
    "name": "ipython",
    "version": 3
   },
   "file_extension": ".py",
   "mimetype": "text/x-python",
   "name": "python",
   "nbconvert_exporter": "python",
   "pygments_lexer": "ipython3",
   "version": "3.11.3"
  }
 },
 "nbformat": 4,
 "nbformat_minor": 5
}
